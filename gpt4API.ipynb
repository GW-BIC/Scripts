{
 "cells": [
  {
   "cell_type": "code",
   "execution_count": 1,
   "metadata": {},
   "outputs": [],
   "source": [
    "import os\n",
    "import pandas as pd\n",
    "import openai\n",
    "openai.api_key = os.getenv(\"OPENAI_API_KEY\")"
   ]
  },
  {
   "cell_type": "code",
   "execution_count": 2,
   "metadata": {},
   "outputs": [
    {
     "data": {
      "text/html": [
       "<div>\n",
       "<style scoped>\n",
       "    .dataframe tbody tr th:only-of-type {\n",
       "        vertical-align: middle;\n",
       "    }\n",
       "\n",
       "    .dataframe tbody tr th {\n",
       "        vertical-align: top;\n",
       "    }\n",
       "\n",
       "    .dataframe thead th {\n",
       "        text-align: right;\n",
       "    }\n",
       "</style>\n",
       "<table border=\"1\" class=\"dataframe\">\n",
       "  <thead>\n",
       "    <tr style=\"text-align: right;\">\n",
       "      <th></th>\n",
       "      <th>ï»¿number_file</th>\n",
       "      <th>filename</th>\n",
       "      <th>Input</th>\n",
       "      <th>GPT4_Output</th>\n",
       "    </tr>\n",
       "  </thead>\n",
       "  <tbody>\n",
       "    <tr>\n",
       "      <th>0</th>\n",
       "      <td>1</td>\n",
       "      <td>00_01</td>\n",
       "      <td>Hyperlipidemia\\nAssessment\\nControl of Hyperli...</td>\n",
       "      <td>NaN</td>\n",
       "    </tr>\n",
       "    <tr>\n",
       "      <th>1</th>\n",
       "      <td>2</td>\n",
       "      <td>00_10</td>\n",
       "      <td>Misc.\\nPlan\\nProvider informed of patients req...</td>\n",
       "      <td>NaN</td>\n",
       "    </tr>\n",
       "    <tr>\n",
       "      <th>2</th>\n",
       "      <td>3</td>\n",
       "      <td>01_09</td>\n",
       "      <td>VITALS:\\n\\tSBP:124, DBP:82, Pulse:63, POx:95, ...</td>\n",
       "      <td>NaN</td>\n",
       "    </tr>\n",
       "    <tr>\n",
       "      <th>3</th>\n",
       "      <td>4</td>\n",
       "      <td>02_06</td>\n",
       "      <td>EXAM: \\nEYES: EOMI, PERRLA; both eyes dilated ...</td>\n",
       "      <td>NaN</td>\n",
       "    </tr>\n",
       "    <tr>\n",
       "      <th>4</th>\n",
       "      <td>5</td>\n",
       "      <td>03_06</td>\n",
       "      <td>Assessment\\nInfluenza: Rapid strep came back n...</td>\n",
       "      <td>NaN</td>\n",
       "    </tr>\n",
       "  </tbody>\n",
       "</table>\n",
       "</div>"
      ],
      "text/plain": [
       "   ï»¿number_file  filename    \\\n",
       "0                1      00_01   \n",
       "1                2      00_10   \n",
       "2                3      01_09   \n",
       "3                4      02_06   \n",
       "4                5      03_06   \n",
       "\n",
       "                                               Input  GPT4_Output  \n",
       "0  Hyperlipidemia\\nAssessment\\nControl of Hyperli...          NaN  \n",
       "1  Misc.\\nPlan\\nProvider informed of patients req...          NaN  \n",
       "2  VITALS:\\n\\tSBP:124, DBP:82, Pulse:63, POx:95, ...          NaN  \n",
       "3  EXAM: \\nEYES: EOMI, PERRLA; both eyes dilated ...          NaN  \n",
       "4  Assessment\\nInfluenza: Rapid strep came back n...          NaN  "
      ]
     },
     "execution_count": 2,
     "metadata": {},
     "output_type": "execute_result"
    }
   ],
   "source": [
    "df = pd.read_csv('ChatGPT_interrater.csv',  encoding='unicode_escape')\n",
    "df.head()"
   ]
  },
  {
   "cell_type": "code",
   "execution_count": 5,
   "metadata": {},
   "outputs": [],
   "source": [
    "MODEL = \"gpt-4\"\n",
    "\n",
    "def call_api(input_string):\n",
    "    response = openai.ChatCompletion.create(\n",
    "    model=MODEL,\n",
    "    messages=[\n",
    "        {\"role\": \"system\", \"content\": \"Please summarize the following medical note to be understood by a patient at a 5th grade literacy level.  Please explain all medical diseases and define all medical abbreviations or terms.  If applicable (such as when the medical note is not an image or procedure note), please summarize any recommendations for what the patient needs to do or know for future visits.\"},\n",
    "        {\"role\": \"user\", \"content\": input_string},\n",
    "    ],\n",
    "    temperature=0,\n",
    "    )\n",
    "    return response['choices'][0]['message']['content']\n",
    "\n"
   ]
  },
  {
   "cell_type": "code",
   "execution_count": 6,
   "metadata": {},
   "outputs": [
    {
     "data": {
      "text/html": [
       "<div>\n",
       "<style scoped>\n",
       "    .dataframe tbody tr th:only-of-type {\n",
       "        vertical-align: middle;\n",
       "    }\n",
       "\n",
       "    .dataframe tbody tr th {\n",
       "        vertical-align: top;\n",
       "    }\n",
       "\n",
       "    .dataframe thead th {\n",
       "        text-align: right;\n",
       "    }\n",
       "</style>\n",
       "<table border=\"1\" class=\"dataframe\">\n",
       "  <thead>\n",
       "    <tr style=\"text-align: right;\">\n",
       "      <th></th>\n",
       "      <th>ï»¿number_file</th>\n",
       "      <th>filename</th>\n",
       "      <th>Input</th>\n",
       "      <th>GPT4_Output</th>\n",
       "    </tr>\n",
       "  </thead>\n",
       "  <tbody>\n",
       "    <tr>\n",
       "      <th>0</th>\n",
       "      <td>1</td>\n",
       "      <td>00_01</td>\n",
       "      <td>Hyperlipidemia\\nAssessment\\nControl of Hyperli...</td>\n",
       "      <td>You have a condition called hyperlipidemia, wh...</td>\n",
       "    </tr>\n",
       "    <tr>\n",
       "      <th>1</th>\n",
       "      <td>2</td>\n",
       "      <td>00_10</td>\n",
       "      <td>Misc.\\nPlan\\nProvider informed of patients req...</td>\n",
       "      <td>The doctor wants you to have some tests done b...</td>\n",
       "    </tr>\n",
       "    <tr>\n",
       "      <th>2</th>\n",
       "      <td>3</td>\n",
       "      <td>01_09</td>\n",
       "      <td>VITALS:\\n\\tSBP:124, DBP:82, Pulse:63, POx:95, ...</td>\n",
       "      <td>The doctor checked your body and everything se...</td>\n",
       "    </tr>\n",
       "    <tr>\n",
       "      <th>3</th>\n",
       "      <td>4</td>\n",
       "      <td>02_06</td>\n",
       "      <td>EXAM: \\nEYES: EOMI, PERRLA; both eyes dilated ...</td>\n",
       "      <td>EXAM:\\nEYES: The doctor looked at your eyes an...</td>\n",
       "    </tr>\n",
       "    <tr>\n",
       "      <th>4</th>\n",
       "      <td>5</td>\n",
       "      <td>03_06</td>\n",
       "      <td>Assessment\\nInfluenza: Rapid strep came back n...</td>\n",
       "      <td>Assessment\\nYou have the flu: We did a quick t...</td>\n",
       "    </tr>\n",
       "  </tbody>\n",
       "</table>\n",
       "</div>"
      ],
      "text/plain": [
       "   ï»¿number_file  filename    \\\n",
       "0                1      00_01   \n",
       "1                2      00_10   \n",
       "2                3      01_09   \n",
       "3                4      02_06   \n",
       "4                5      03_06   \n",
       "\n",
       "                                               Input  \\\n",
       "0  Hyperlipidemia\\nAssessment\\nControl of Hyperli...   \n",
       "1  Misc.\\nPlan\\nProvider informed of patients req...   \n",
       "2  VITALS:\\n\\tSBP:124, DBP:82, Pulse:63, POx:95, ...   \n",
       "3  EXAM: \\nEYES: EOMI, PERRLA; both eyes dilated ...   \n",
       "4  Assessment\\nInfluenza: Rapid strep came back n...   \n",
       "\n",
       "                                         GPT4_Output  \n",
       "0  You have a condition called hyperlipidemia, wh...  \n",
       "1  The doctor wants you to have some tests done b...  \n",
       "2  The doctor checked your body and everything se...  \n",
       "3  EXAM:\\nEYES: The doctor looked at your eyes an...  \n",
       "4  Assessment\\nYou have the flu: We did a quick t...  "
      ]
     },
     "execution_count": 6,
     "metadata": {},
     "output_type": "execute_result"
    }
   ],
   "source": [
    "df['GPT4_Output'] = df['Input'].apply(call_api)\n",
    "df.head()"
   ]
  },
  {
   "cell_type": "code",
   "execution_count": 7,
   "metadata": {},
   "outputs": [],
   "source": [
    "df.to_csv('ChatGPT_interrater_responses.csv', index=False)"
   ]
  },
  {
   "cell_type": "code",
   "execution_count": 8,
   "metadata": {},
   "outputs": [
    {
     "data": {
      "text/plain": [
       "200"
      ]
     },
     "execution_count": 8,
     "metadata": {},
     "output_type": "execute_result"
    }
   ],
   "source": [
    "df.size"
   ]
  },
  {
   "cell_type": "code",
   "execution_count": null,
   "metadata": {},
   "outputs": [],
   "source": []
  }
 ],
 "metadata": {
  "kernelspec": {
   "display_name": "HCC",
   "language": "python",
   "name": "python3"
  },
  "language_info": {
   "codemirror_mode": {
    "name": "ipython",
    "version": 3
   },
   "file_extension": ".py",
   "mimetype": "text/x-python",
   "name": "python",
   "nbconvert_exporter": "python",
   "pygments_lexer": "ipython3",
   "version": "3.10.13"
  }
 },
 "nbformat": 4,
 "nbformat_minor": 2
}
